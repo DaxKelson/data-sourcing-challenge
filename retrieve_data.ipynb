{
 "cells": [
  {
   "cell_type": "markdown",
   "metadata": {},
   "source": [
    "### Import Required Libraries and Set Up Environment Variables"
   ]
  },
  {
   "cell_type": "code",
   "execution_count": null,
   "metadata": {},
   "outputs": [],
   "source": [
    "# Dependencies\n",
    "import requests\n",
    "import time\n",
    "from dotenv import load_dotenv\n",
    "import os\n",
    "import pandas as pd\n",
    "import json\n",
    "import os\n",
    "from datetime import datetime\n",
    "## Load the NASA_API_KEY from the env file\n",
    "load_dotenv(\"example.env\")\n",
    "NASA_API_KEY = os.getenv('NASA_API_KEY')\n"
   ]
  },
  {
   "cell_type": "markdown",
   "metadata": {},
   "source": [
    "### CME Data"
   ]
  },
  {
   "cell_type": "code",
   "execution_count": 17,
   "metadata": {},
   "outputs": [
    {
     "name": "stdout",
     "output_type": "stream",
     "text": [
      "JmfbhcUTRLLBljsrdiZk8WvM4VSqKtwZmJaSBC6Z\n"
     ]
    }
   ],
   "source": [
    "# Set the base URL to NASA's DONKI API:\n",
    "base_url = \"https://api.nasa.gov/DONKI/\"\n",
    "\n",
    "# Set the specifier for CMEs:\n",
    "CME = \"CME\"\n",
    "\n",
    "# Search for CMEs published between a begin and end date\n",
    "startDate = \"2013-05-01\"\n",
    "endDate   = \"2024-05-01\"\n",
    "\n",
    "# Build URL for CME\n",
    "cme_url = f\"{base_url}{CME}?startDate={startDate}&endDate={endDate}&api_key={NASA_API_KEY}\"\n",
    "print(NASA_API_KEY)"
   ]
  },
  {
   "cell_type": "code",
   "execution_count": 18,
   "metadata": {},
   "outputs": [
    {
     "name": "stdout",
     "output_type": "stream",
     "text": [
      "200\n"
     ]
    }
   ],
   "source": [
    "# Make a \"GET\" request for the CME URL and store it in a variable named cme_response\n",
    "cme_response = requests.get(cme_url)\n",
    "print(cme_response.status_code)"
   ]
  },
  {
   "cell_type": "code",
   "execution_count": 19,
   "metadata": {},
   "outputs": [],
   "source": [
    "# Convert the response variable to json and store it as a variable named cme_json\n",
    "cme_json = cme_response.json()"
   ]
  },
  {
   "cell_type": "code",
   "execution_count": null,
   "metadata": {
    "scrolled": true
   },
   "outputs": [
    {
     "name": "stdout",
     "output_type": "stream",
     "text": [
      "{\n",
      "    \"activityID\": \"2013-05-01T03:12:00-CME-001\",\n",
      "    \"catalog\": \"M2M_CATALOG\",\n",
      "    \"startTime\": \"2013-05-01T03:12Z\",\n",
      "    \"instruments\": [\n",
      "        {\n",
      "            \"displayName\": \"SOHO: LASCO/C2\"\n",
      "        },\n",
      "        {\n",
      "            \"displayName\": \"SOHO: LASCO/C3\"\n",
      "        },\n",
      "        {\n",
      "            \"displayName\": \"STEREO A: SECCHI/COR2\"\n",
      "        },\n",
      "        {\n",
      "            \"displayName\": \"STEREO B: SECCHI/COR2\"\n",
      "        }\n",
      "    ],\n",
      "    \"sourceLocation\": \"\",\n",
      "    \"activeRegionNum\": null,\n",
      "    \"note\": \"\",\n",
      "    \"submissionTime\": \"2013-08-07T16:54Z\",\n",
      "    \"versionId\": 1,\n",
      "    \"link\": \"https://webtools.ccmc.gsfc.nasa.gov/DONKI/view/CME/2349/-1\",\n",
      "    \"cmeAnalyses\": [\n",
      "        {\n",
      "            \"isMostAccurate\": true,\n",
      "            \"time21_5\": \"2013-05-01T07:07Z\",\n",
      "            \"latitude\": 12.0,\n",
      "            \"longitude\": -120.0,\n",
      "            \"halfAngle\": 36.0,\n",
      "            \"speed\": 860.0,\n",
      "            \"type\": \"C\",\n",
      "            \"featureCode\": \"null\",\n",
      "            \"imageType\": null,\n",
      "            \"measurementTechnique\": \"null\",\n",
      "            \"note\": \"\",\n",
      "            \"levelOfData\": 0,\n",
      "            \"tilt\": null,\n",
      "            \"minorHalfWidth\": null,\n",
      "            \"speedMeasuredAtHeight\": null,\n",
      "            \"submissionTime\": \"2013-08-07T16:54Z\",\n",
      "            \"link\": \"https://webtools.ccmc.gsfc.nasa.gov/DONKI/view/CMEAnalysis/2350/-1\",\n",
      "            \"enlilList\": [\n",
      "                {\n",
      "                    \"modelCompletionTime\": \"2013-05-01T08:32Z\",\n",
      "                    \"au\": 2.0,\n",
      "                    \"estimatedShockArrivalTime\": null,\n",
      "                    \"estimatedDuration\": null,\n",
      "                    \"rmin_re\": null,\n",
      "                    \"kp_18\": null,\n",
      "                    \"kp_90\": null,\n",
      "                    \"kp_135\": null,\n",
      "                    \"kp_180\": null,\n",
      "                    \"isEarthGB\": false,\n",
      "                    \"link\": \"https://webtools.ccmc.gsfc.nasa.gov/DONKI/view/WSA-ENLIL/2348/-1\",\n",
      "                    \"impactList\": [\n",
      "                        {\n",
      "                            \"isGlancingBlow\": false,\n",
      "                            \"location\": \"STEREO B\",\n",
      "                            \"arrivalTime\": \"2013-05-04T06:16Z\"\n",
      "                        }\n",
      "                    ],\n",
      "                    \"cmeIDs\": [\n",
      "                        \"2013-05-01T03:12:00-CME-001\"\n",
      "                    ]\n",
      "                }\n",
      "            ]\n",
      "        }\n",
      "    ],\n",
      "    \"linkedEvents\": [\n",
      "        {\n",
      "            \"activityID\": \"2013-05-04T04:52:00-IPS-001\"\n",
      "        }\n",
      "    ]\n",
      "}\n"
     ]
    },
    {
     "name": "stdout",
     "output_type": "stream",
     "text": [
      "ERROR! Session/line number was not unique in"
     ]
    },
    {
     "name": "stdout",
     "output_type": "stream",
     "text": [
      " database. History logging moved to new session 65\n"
     ]
    }
   ],
   "source": [
    "# Preview ONLY the first element from the cme_json list you created in JSON format\n",
    "# Do NOT print out the entire list\n",
    "# Use json.dumps with argument indent=4 to format data\n",
    "print(json.dumps(cme_json[0], indent=4))"
   ]
  },
  {
   "cell_type": "code",
   "execution_count": 24,
   "metadata": {},
   "outputs": [
    {
     "data": {
      "text/html": [
       "<div>\n",
       "<style scoped>\n",
       "    .dataframe tbody tr th:only-of-type {\n",
       "        vertical-align: middle;\n",
       "    }\n",
       "\n",
       "    .dataframe tbody tr th {\n",
       "        vertical-align: top;\n",
       "    }\n",
       "\n",
       "    .dataframe thead th {\n",
       "        text-align: right;\n",
       "    }\n",
       "</style>\n",
       "<table border=\"1\" class=\"dataframe\">\n",
       "  <thead>\n",
       "    <tr style=\"text-align: right;\">\n",
       "      <th></th>\n",
       "      <th>activityID</th>\n",
       "      <th>startTime</th>\n",
       "      <th>linkedEvents</th>\n",
       "    </tr>\n",
       "  </thead>\n",
       "  <tbody>\n",
       "    <tr>\n",
       "      <th>0</th>\n",
       "      <td>2013-05-01T03:12:00-CME-001</td>\n",
       "      <td>2013-05-01T03:12Z</td>\n",
       "      <td>[{'activityID': '2013-05-04T04:52:00-IPS-001'}]</td>\n",
       "    </tr>\n",
       "    <tr>\n",
       "      <th>1</th>\n",
       "      <td>2013-05-02T05:24:00-CME-001</td>\n",
       "      <td>2013-05-02T05:24Z</td>\n",
       "      <td>None</td>\n",
       "    </tr>\n",
       "    <tr>\n",
       "      <th>2</th>\n",
       "      <td>2013-05-02T14:36:00-CME-001</td>\n",
       "      <td>2013-05-02T14:36Z</td>\n",
       "      <td>None</td>\n",
       "    </tr>\n",
       "    <tr>\n",
       "      <th>3</th>\n",
       "      <td>2013-05-03T18:00:00-CME-001</td>\n",
       "      <td>2013-05-03T18:00Z</td>\n",
       "      <td>None</td>\n",
       "    </tr>\n",
       "    <tr>\n",
       "      <th>4</th>\n",
       "      <td>2013-05-03T22:36:00-CME-001</td>\n",
       "      <td>2013-05-03T22:36Z</td>\n",
       "      <td>[{'activityID': '2013-05-07T04:37:00-IPS-001'}]</td>\n",
       "    </tr>\n",
       "  </tbody>\n",
       "</table>\n",
       "</div>"
      ],
      "text/plain": [
       "                    activityID          startTime  \\\n",
       "0  2013-05-01T03:12:00-CME-001  2013-05-01T03:12Z   \n",
       "1  2013-05-02T05:24:00-CME-001  2013-05-02T05:24Z   \n",
       "2  2013-05-02T14:36:00-CME-001  2013-05-02T14:36Z   \n",
       "3  2013-05-03T18:00:00-CME-001  2013-05-03T18:00Z   \n",
       "4  2013-05-03T22:36:00-CME-001  2013-05-03T22:36Z   \n",
       "\n",
       "                                      linkedEvents  \n",
       "0  [{'activityID': '2013-05-04T04:52:00-IPS-001'}]  \n",
       "1                                             None  \n",
       "2                                             None  \n",
       "3                                             None  \n",
       "4  [{'activityID': '2013-05-07T04:37:00-IPS-001'}]  "
      ]
     },
     "execution_count": 24,
     "metadata": {},
     "output_type": "execute_result"
    }
   ],
   "source": [
    "# Convert cme_json to a Pandas DataFrame \n",
    "cme_df = pd.DataFrame(cme_json)\n",
    "# Keep only the columns: activityID, startTime, linkedEvents\n",
    "cme_df = cme_df[['activityID', 'startTime', 'linkedEvents']]\n",
    "cme_df.head()"
   ]
  },
  {
   "cell_type": "code",
   "execution_count": 27,
   "metadata": {},
   "outputs": [
    {
     "data": {
      "text/html": [
       "<div>\n",
       "<style scoped>\n",
       "    .dataframe tbody tr th:only-of-type {\n",
       "        vertical-align: middle;\n",
       "    }\n",
       "\n",
       "    .dataframe tbody tr th {\n",
       "        vertical-align: top;\n",
       "    }\n",
       "\n",
       "    .dataframe thead th {\n",
       "        text-align: right;\n",
       "    }\n",
       "</style>\n",
       "<table border=\"1\" class=\"dataframe\">\n",
       "  <thead>\n",
       "    <tr style=\"text-align: right;\">\n",
       "      <th></th>\n",
       "      <th>activityID</th>\n",
       "      <th>startTime</th>\n",
       "      <th>linkedEvents</th>\n",
       "    </tr>\n",
       "  </thead>\n",
       "  <tbody>\n",
       "    <tr>\n",
       "      <th>0</th>\n",
       "      <td>2013-05-01T03:12:00-CME-001</td>\n",
       "      <td>2013-05-01T03:12Z</td>\n",
       "      <td>[{'activityID': '2013-05-04T04:52:00-IPS-001'}]</td>\n",
       "    </tr>\n",
       "    <tr>\n",
       "      <th>4</th>\n",
       "      <td>2013-05-03T22:36:00-CME-001</td>\n",
       "      <td>2013-05-03T22:36Z</td>\n",
       "      <td>[{'activityID': '2013-05-07T04:37:00-IPS-001'}]</td>\n",
       "    </tr>\n",
       "    <tr>\n",
       "      <th>7</th>\n",
       "      <td>2013-05-09T19:29:00-CME-001</td>\n",
       "      <td>2013-05-09T19:29Z</td>\n",
       "      <td>[{'activityID': '2013-05-12T23:30:00-IPS-001'}]</td>\n",
       "    </tr>\n",
       "    <tr>\n",
       "      <th>10</th>\n",
       "      <td>2013-05-13T02:54:00-CME-001</td>\n",
       "      <td>2013-05-13T02:54Z</td>\n",
       "      <td>[{'activityID': '2013-05-13T01:53:00-FLR-001'}...</td>\n",
       "    </tr>\n",
       "    <tr>\n",
       "      <th>13</th>\n",
       "      <td>2013-05-13T16:18:00-CME-001</td>\n",
       "      <td>2013-05-13T16:18Z</td>\n",
       "      <td>[{'activityID': '2013-05-13T15:40:00-FLR-001'}...</td>\n",
       "    </tr>\n",
       "  </tbody>\n",
       "</table>\n",
       "</div>"
      ],
      "text/plain": [
       "                     activityID          startTime  \\\n",
       "0   2013-05-01T03:12:00-CME-001  2013-05-01T03:12Z   \n",
       "4   2013-05-03T22:36:00-CME-001  2013-05-03T22:36Z   \n",
       "7   2013-05-09T19:29:00-CME-001  2013-05-09T19:29Z   \n",
       "10  2013-05-13T02:54:00-CME-001  2013-05-13T02:54Z   \n",
       "13  2013-05-13T16:18:00-CME-001  2013-05-13T16:18Z   \n",
       "\n",
       "                                         linkedEvents  \n",
       "0     [{'activityID': '2013-05-04T04:52:00-IPS-001'}]  \n",
       "4     [{'activityID': '2013-05-07T04:37:00-IPS-001'}]  \n",
       "7     [{'activityID': '2013-05-12T23:30:00-IPS-001'}]  \n",
       "10  [{'activityID': '2013-05-13T01:53:00-FLR-001'}...  \n",
       "13  [{'activityID': '2013-05-13T15:40:00-FLR-001'}...  "
      ]
     },
     "execution_count": 27,
     "metadata": {},
     "output_type": "execute_result"
    }
   ],
   "source": [
    "# Notice that the linkedEvents column allows us to identify the corresponding GST\n",
    "# Remove rows with missing 'linkedEvents' since we won't be able to assign these to GSTs\n",
    "cme_df = cme_df[cme_df['linkedEvents'].apply(lambda x: isinstance(x, list) and len(x) > 0)]\n",
    "cme_df.head()"
   ]
  },
  {
   "cell_type": "code",
   "execution_count": 30,
   "metadata": {},
   "outputs": [
    {
     "data": {
      "text/html": [
       "<div>\n",
       "<style scoped>\n",
       "    .dataframe tbody tr th:only-of-type {\n",
       "        vertical-align: middle;\n",
       "    }\n",
       "\n",
       "    .dataframe tbody tr th {\n",
       "        vertical-align: top;\n",
       "    }\n",
       "\n",
       "    .dataframe thead th {\n",
       "        text-align: right;\n",
       "    }\n",
       "</style>\n",
       "<table border=\"1\" class=\"dataframe\">\n",
       "  <thead>\n",
       "    <tr style=\"text-align: right;\">\n",
       "      <th></th>\n",
       "      <th>activityID</th>\n",
       "      <th>startTime</th>\n",
       "      <th>linkedEvent</th>\n",
       "    </tr>\n",
       "  </thead>\n",
       "  <tbody>\n",
       "    <tr>\n",
       "      <th>0</th>\n",
       "      <td>2013-05-01T03:12:00-CME-001</td>\n",
       "      <td>2013-05-01T03:12Z</td>\n",
       "      <td>{'activityID': '2013-05-04T04:52:00-IPS-001'}</td>\n",
       "    </tr>\n",
       "    <tr>\n",
       "      <th>1</th>\n",
       "      <td>2013-05-03T22:36:00-CME-001</td>\n",
       "      <td>2013-05-03T22:36Z</td>\n",
       "      <td>{'activityID': '2013-05-07T04:37:00-IPS-001'}</td>\n",
       "    </tr>\n",
       "    <tr>\n",
       "      <th>2</th>\n",
       "      <td>2013-05-09T19:29:00-CME-001</td>\n",
       "      <td>2013-05-09T19:29Z</td>\n",
       "      <td>{'activityID': '2013-05-12T23:30:00-IPS-001'}</td>\n",
       "    </tr>\n",
       "    <tr>\n",
       "      <th>3</th>\n",
       "      <td>2013-05-13T02:54:00-CME-001</td>\n",
       "      <td>2013-05-13T02:54Z</td>\n",
       "      <td>{'activityID': '2013-05-13T01:53:00-FLR-001'}</td>\n",
       "    </tr>\n",
       "    <tr>\n",
       "      <th>4</th>\n",
       "      <td>2013-05-13T02:54:00-CME-001</td>\n",
       "      <td>2013-05-13T02:54Z</td>\n",
       "      <td>{'activityID': '2013-05-13T04:12:00-SEP-001'}</td>\n",
       "    </tr>\n",
       "  </tbody>\n",
       "</table>\n",
       "</div>"
      ],
      "text/plain": [
       "                    activityID          startTime  \\\n",
       "0  2013-05-01T03:12:00-CME-001  2013-05-01T03:12Z   \n",
       "1  2013-05-03T22:36:00-CME-001  2013-05-03T22:36Z   \n",
       "2  2013-05-09T19:29:00-CME-001  2013-05-09T19:29Z   \n",
       "3  2013-05-13T02:54:00-CME-001  2013-05-13T02:54Z   \n",
       "4  2013-05-13T02:54:00-CME-001  2013-05-13T02:54Z   \n",
       "\n",
       "                                     linkedEvent  \n",
       "0  {'activityID': '2013-05-04T04:52:00-IPS-001'}  \n",
       "1  {'activityID': '2013-05-07T04:37:00-IPS-001'}  \n",
       "2  {'activityID': '2013-05-12T23:30:00-IPS-001'}  \n",
       "3  {'activityID': '2013-05-13T01:53:00-FLR-001'}  \n",
       "4  {'activityID': '2013-05-13T04:12:00-SEP-001'}  "
      ]
     },
     "execution_count": 30,
     "metadata": {},
     "output_type": "execute_result"
    }
   ],
   "source": [
    "# Notice that the linkedEvents sometimes contains multiple events per row\n",
    "# Write a nested for loop that iterates first over each row in the cme DataFrame (using the index)\n",
    "# and then iterates over the values in 'linkedEvents' \n",
    "# and adds the elements individually to a list of dictionaries where each row is one element \n",
    "\n",
    "# Initialize an empty list to store the expanded rows\n",
    "expanded_rows = []\n",
    "\n",
    "\n",
    "# Iterate over each index in the DataFrame\n",
    "\n",
    "    # Iterate over each dictionary in the list\n",
    "    \n",
    "        # Append a new dictionary to the expanded_rows list for each dictionary item and corresponding 'activityID' and 'startTime' value\n",
    "for idx in cme_df.index:\n",
    "    activity_id = cme_df.at[idx, 'activityID']\n",
    "    start_time = cme_df.at[idx, 'startTime']\n",
    "    linked = cme_df.at[idx, 'linkedEvents']\n",
    "    \n",
    "    # Iterate over each dictionary in the linkedEvents list\n",
    "    for event in linked:\n",
    "        # Append each as a new row with CME info plus the linked event dictionary\n",
    "        expanded_rows.append({\n",
    "            'activityID': activity_id,\n",
    "            'startTime': start_time,\n",
    "            'linkedEvent': event\n",
    "        })\n",
    "\n",
    "# Create a new DataFrame from the expanded rows\n",
    "expanded_cme_df = pd.DataFrame(expanded_rows)\n",
    "\n",
    "# Display the first few rows to verify\n",
    "expanded_cme_df.head()"
   ]
  },
  {
   "cell_type": "code",
   "execution_count": null,
   "metadata": {},
   "outputs": [
    {
     "name": "stdout",
     "output_type": "stream",
     "text": [
      "Example linkedEvent dict: {'activityID': '2013-05-04T04:52:00-IPS-001'}\n",
      "Extracted activityID: 2013-05-04T04:52:00-IPS-001\n"
     ]
    }
   ],
   "source": [
    "# Create a function called extract_activityID_from_dict that takes a dict as input such as in linkedEvents\n",
    "# and verify below that it works as expected using one row from linkedEvents as an example\n",
    "# Be sure to use a try and except block to handle errors\n",
    "def extract_activityID_from_dict(event_dict):\n",
    "    try:\n",
    "        return event_dict['activityID']\n",
    "    except (TypeError, KeyError) as e:\n",
    "        print(f\"Error extracting activityID: {e}\")\n",
    "        return None\n",
    "\n",
    "        # Log the error or print it for debugging\n",
    "\n",
    "# Test it on one row to make sure it works\n",
    "example = expanded_cme_df['linkedEvent'].iloc[0]\n",
    "print(\"Example linkedEvent dict:\", example)\n",
    "print(\"Extracted activityID:\", extract_activityID_from_dict(example))\n",
    "\n"
   ]
  },
  {
   "cell_type": "code",
   "execution_count": 34,
   "metadata": {},
   "outputs": [
    {
     "data": {
      "text/html": [
       "<div>\n",
       "<style scoped>\n",
       "    .dataframe tbody tr th:only-of-type {\n",
       "        vertical-align: middle;\n",
       "    }\n",
       "\n",
       "    .dataframe tbody tr th {\n",
       "        vertical-align: top;\n",
       "    }\n",
       "\n",
       "    .dataframe thead th {\n",
       "        text-align: right;\n",
       "    }\n",
       "</style>\n",
       "<table border=\"1\" class=\"dataframe\">\n",
       "  <thead>\n",
       "    <tr style=\"text-align: right;\">\n",
       "      <th></th>\n",
       "      <th>activityID</th>\n",
       "      <th>startTime</th>\n",
       "      <th>linkedEvent</th>\n",
       "      <th>GST_ActivityID</th>\n",
       "    </tr>\n",
       "  </thead>\n",
       "  <tbody>\n",
       "    <tr>\n",
       "      <th>0</th>\n",
       "      <td>2013-05-01T03:12:00-CME-001</td>\n",
       "      <td>2013-05-01T03:12Z</td>\n",
       "      <td>{'activityID': '2013-05-04T04:52:00-IPS-001'}</td>\n",
       "      <td>2013-05-04T04:52:00-IPS-001</td>\n",
       "    </tr>\n",
       "    <tr>\n",
       "      <th>1</th>\n",
       "      <td>2013-05-03T22:36:00-CME-001</td>\n",
       "      <td>2013-05-03T22:36Z</td>\n",
       "      <td>{'activityID': '2013-05-07T04:37:00-IPS-001'}</td>\n",
       "      <td>2013-05-07T04:37:00-IPS-001</td>\n",
       "    </tr>\n",
       "    <tr>\n",
       "      <th>2</th>\n",
       "      <td>2013-05-09T19:29:00-CME-001</td>\n",
       "      <td>2013-05-09T19:29Z</td>\n",
       "      <td>{'activityID': '2013-05-12T23:30:00-IPS-001'}</td>\n",
       "      <td>2013-05-12T23:30:00-IPS-001</td>\n",
       "    </tr>\n",
       "    <tr>\n",
       "      <th>3</th>\n",
       "      <td>2013-05-13T02:54:00-CME-001</td>\n",
       "      <td>2013-05-13T02:54Z</td>\n",
       "      <td>{'activityID': '2013-05-13T01:53:00-FLR-001'}</td>\n",
       "      <td>2013-05-13T01:53:00-FLR-001</td>\n",
       "    </tr>\n",
       "    <tr>\n",
       "      <th>4</th>\n",
       "      <td>2013-05-13T02:54:00-CME-001</td>\n",
       "      <td>2013-05-13T02:54Z</td>\n",
       "      <td>{'activityID': '2013-05-13T04:12:00-SEP-001'}</td>\n",
       "      <td>2013-05-13T04:12:00-SEP-001</td>\n",
       "    </tr>\n",
       "  </tbody>\n",
       "</table>\n",
       "</div>"
      ],
      "text/plain": [
       "                    activityID          startTime  \\\n",
       "0  2013-05-01T03:12:00-CME-001  2013-05-01T03:12Z   \n",
       "1  2013-05-03T22:36:00-CME-001  2013-05-03T22:36Z   \n",
       "2  2013-05-09T19:29:00-CME-001  2013-05-09T19:29Z   \n",
       "3  2013-05-13T02:54:00-CME-001  2013-05-13T02:54Z   \n",
       "4  2013-05-13T02:54:00-CME-001  2013-05-13T02:54Z   \n",
       "\n",
       "                                     linkedEvent               GST_ActivityID  \n",
       "0  {'activityID': '2013-05-04T04:52:00-IPS-001'}  2013-05-04T04:52:00-IPS-001  \n",
       "1  {'activityID': '2013-05-07T04:37:00-IPS-001'}  2013-05-07T04:37:00-IPS-001  \n",
       "2  {'activityID': '2013-05-12T23:30:00-IPS-001'}  2013-05-12T23:30:00-IPS-001  \n",
       "3  {'activityID': '2013-05-13T01:53:00-FLR-001'}  2013-05-13T01:53:00-FLR-001  \n",
       "4  {'activityID': '2013-05-13T04:12:00-SEP-001'}  2013-05-13T04:12:00-SEP-001  "
      ]
     },
     "execution_count": 34,
     "metadata": {},
     "output_type": "execute_result"
    }
   ],
   "source": [
    "# Apply the function to extract GST activity IDs\n",
    "expanded_cme_df['GST_ActivityID'] = expanded_cme_df['linkedEvent'].apply(lambda x: extract_activityID_from_dict(x))\n",
    "\n",
    "# Display the first few rows to confirm the new column\n",
    "expanded_cme_df.head()"
   ]
  },
  {
   "cell_type": "code",
   "execution_count": 35,
   "metadata": {},
   "outputs": [],
   "source": [
    "# Remove rows with missing GST_ActivityID, since we can't assign them to GSTs:\n",
    "expanded_cme_df = expanded_cme_df[expanded_cme_df['GST_ActivityID'].notna()]"
   ]
  },
  {
   "cell_type": "code",
   "execution_count": 36,
   "metadata": {},
   "outputs": [
    {
     "name": "stdout",
     "output_type": "stream",
     "text": [
      "activityID        object\n",
      "startTime         object\n",
      "linkedEvent       object\n",
      "GST_ActivityID    object\n",
      "dtype: object\n"
     ]
    }
   ],
   "source": [
    "# print out the datatype of each column in this DataFrame:\n",
    "print(expanded_cme_df.dtypes)"
   ]
  },
  {
   "cell_type": "code",
   "execution_count": 37,
   "metadata": {},
   "outputs": [
    {
     "data": {
      "text/html": [
       "<div>\n",
       "<style scoped>\n",
       "    .dataframe tbody tr th:only-of-type {\n",
       "        vertical-align: middle;\n",
       "    }\n",
       "\n",
       "    .dataframe tbody tr th {\n",
       "        vertical-align: top;\n",
       "    }\n",
       "\n",
       "    .dataframe thead th {\n",
       "        text-align: right;\n",
       "    }\n",
       "</style>\n",
       "<table border=\"1\" class=\"dataframe\">\n",
       "  <thead>\n",
       "    <tr style=\"text-align: right;\">\n",
       "      <th></th>\n",
       "      <th>cmeID</th>\n",
       "      <th>startTime_CME</th>\n",
       "      <th>GST_ActivityID</th>\n",
       "    </tr>\n",
       "  </thead>\n",
       "  <tbody>\n",
       "    <tr>\n",
       "      <th>0</th>\n",
       "      <td>2013-05-01T03:12:00-CME-001</td>\n",
       "      <td>2013-05-01 03:12:00+00:00</td>\n",
       "      <td>2013-05-04T04:52:00-IPS-001</td>\n",
       "    </tr>\n",
       "    <tr>\n",
       "      <th>1</th>\n",
       "      <td>2013-05-03T22:36:00-CME-001</td>\n",
       "      <td>2013-05-03 22:36:00+00:00</td>\n",
       "      <td>2013-05-07T04:37:00-IPS-001</td>\n",
       "    </tr>\n",
       "    <tr>\n",
       "      <th>2</th>\n",
       "      <td>2013-05-09T19:29:00-CME-001</td>\n",
       "      <td>2013-05-09 19:29:00+00:00</td>\n",
       "      <td>2013-05-12T23:30:00-IPS-001</td>\n",
       "    </tr>\n",
       "    <tr>\n",
       "      <th>3</th>\n",
       "      <td>2013-05-13T02:54:00-CME-001</td>\n",
       "      <td>2013-05-13 02:54:00+00:00</td>\n",
       "      <td>2013-05-13T01:53:00-FLR-001</td>\n",
       "    </tr>\n",
       "    <tr>\n",
       "      <th>4</th>\n",
       "      <td>2013-05-13T02:54:00-CME-001</td>\n",
       "      <td>2013-05-13 02:54:00+00:00</td>\n",
       "      <td>2013-05-13T04:12:00-SEP-001</td>\n",
       "    </tr>\n",
       "  </tbody>\n",
       "</table>\n",
       "</div>"
      ],
      "text/plain": [
       "                         cmeID             startTime_CME  \\\n",
       "0  2013-05-01T03:12:00-CME-001 2013-05-01 03:12:00+00:00   \n",
       "1  2013-05-03T22:36:00-CME-001 2013-05-03 22:36:00+00:00   \n",
       "2  2013-05-09T19:29:00-CME-001 2013-05-09 19:29:00+00:00   \n",
       "3  2013-05-13T02:54:00-CME-001 2013-05-13 02:54:00+00:00   \n",
       "4  2013-05-13T02:54:00-CME-001 2013-05-13 02:54:00+00:00   \n",
       "\n",
       "                GST_ActivityID  \n",
       "0  2013-05-04T04:52:00-IPS-001  \n",
       "1  2013-05-07T04:37:00-IPS-001  \n",
       "2  2013-05-12T23:30:00-IPS-001  \n",
       "3  2013-05-13T01:53:00-FLR-001  \n",
       "4  2013-05-13T04:12:00-SEP-001  "
      ]
     },
     "execution_count": 37,
     "metadata": {},
     "output_type": "execute_result"
    }
   ],
   "source": [
    "# Convert 'GST_ActivityID' to string format\n",
    "expanded_cme_df['GST_ActivityID'] = expanded_cme_df['GST_ActivityID'].astype(str)\n",
    "\n",
    "# Convert 'startTime' to datetime format\n",
    "expanded_cme_df['startTime'] = pd.to_datetime(expanded_cme_df['startTime'])\n",
    "\n",
    "# Rename columns\n",
    "expanded_cme_df.rename(columns={\n",
    "    'startTime': 'startTime_CME',\n",
    "    'activityID': 'cmeID'\n",
    "}, inplace=True)\n",
    "\n",
    "# Drop 'linkedEvent' column\n",
    "expanded_cme_df.drop(columns=['linkedEvent'], inplace=True)\n",
    "\n",
    "# Confirm the changes\n",
    "expanded_cme_df.head()"
   ]
  },
  {
   "cell_type": "code",
   "execution_count": 39,
   "metadata": {},
   "outputs": [
    {
     "data": {
      "text/html": [
       "<div>\n",
       "<style scoped>\n",
       "    .dataframe tbody tr th:only-of-type {\n",
       "        vertical-align: middle;\n",
       "    }\n",
       "\n",
       "    .dataframe tbody tr th {\n",
       "        vertical-align: top;\n",
       "    }\n",
       "\n",
       "    .dataframe thead th {\n",
       "        text-align: right;\n",
       "    }\n",
       "</style>\n",
       "<table border=\"1\" class=\"dataframe\">\n",
       "  <thead>\n",
       "    <tr style=\"text-align: right;\">\n",
       "      <th></th>\n",
       "      <th>cmeID</th>\n",
       "      <th>startTime_CME</th>\n",
       "      <th>GST_ActivityID</th>\n",
       "    </tr>\n",
       "  </thead>\n",
       "  <tbody>\n",
       "    <tr>\n",
       "      <th>21</th>\n",
       "      <td>2013-06-02T20:24:00-CME-001</td>\n",
       "      <td>2013-06-02 20:24:00+00:00</td>\n",
       "      <td>2013-06-07T03:00:00-GST-001</td>\n",
       "    </tr>\n",
       "    <tr>\n",
       "      <th>48</th>\n",
       "      <td>2013-09-29T22:40:00-CME-001</td>\n",
       "      <td>2013-09-29 22:40:00+00:00</td>\n",
       "      <td>2013-10-02T03:00:00-GST-001</td>\n",
       "    </tr>\n",
       "    <tr>\n",
       "      <th>90</th>\n",
       "      <td>2013-12-04T23:12:00-CME-001</td>\n",
       "      <td>2013-12-04 23:12:00+00:00</td>\n",
       "      <td>2013-12-08T00:00:00-GST-001</td>\n",
       "    </tr>\n",
       "    <tr>\n",
       "      <th>148</th>\n",
       "      <td>2014-02-16T14:15:00-CME-001</td>\n",
       "      <td>2014-02-16 14:15:00+00:00</td>\n",
       "      <td>2014-02-19T03:00:00-GST-001</td>\n",
       "    </tr>\n",
       "    <tr>\n",
       "      <th>151</th>\n",
       "      <td>2014-02-18T01:25:00-CME-001</td>\n",
       "      <td>2014-02-18 01:25:00+00:00</td>\n",
       "      <td>2014-02-20T03:00:00-GST-001</td>\n",
       "    </tr>\n",
       "  </tbody>\n",
       "</table>\n",
       "</div>"
      ],
      "text/plain": [
       "                           cmeID             startTime_CME  \\\n",
       "21   2013-06-02T20:24:00-CME-001 2013-06-02 20:24:00+00:00   \n",
       "48   2013-09-29T22:40:00-CME-001 2013-09-29 22:40:00+00:00   \n",
       "90   2013-12-04T23:12:00-CME-001 2013-12-04 23:12:00+00:00   \n",
       "148  2014-02-16T14:15:00-CME-001 2014-02-16 14:15:00+00:00   \n",
       "151  2014-02-18T01:25:00-CME-001 2014-02-18 01:25:00+00:00   \n",
       "\n",
       "                  GST_ActivityID  \n",
       "21   2013-06-07T03:00:00-GST-001  \n",
       "48   2013-10-02T03:00:00-GST-001  \n",
       "90   2013-12-08T00:00:00-GST-001  \n",
       "148  2014-02-19T03:00:00-GST-001  \n",
       "151  2014-02-20T03:00:00-GST-001  "
      ]
     },
     "execution_count": 39,
     "metadata": {},
     "output_type": "execute_result"
    }
   ],
   "source": [
    "# We are only interested in CMEs related to GSTs so keep only rows where the GST_ActivityID column contains 'GST'\n",
    "# use the method 'contains()' from the str library.  \n",
    "expanded_cme_df = expanded_cme_df[expanded_cme_df['GST_ActivityID'].str.contains(\"GST\")]\n",
    "\n",
    "# Final preview\n",
    "expanded_cme_df.head()"
   ]
  },
  {
   "cell_type": "markdown",
   "metadata": {},
   "source": [
    "### GST Data"
   ]
  },
  {
   "cell_type": "code",
   "execution_count": 40,
   "metadata": {},
   "outputs": [],
   "source": [
    "# Set the base URL to NASA's DONKI API:\n",
    "base_url = \"https://api.nasa.gov/DONKI/\"\n",
    "\n",
    "# Set the specifier for Geomagnetic Storms (GST):\n",
    "GST = \"GST\"\n",
    "\n",
    "# Search for GSTs between a begin and end date\n",
    "startDate = \"2013-05-01\"\n",
    "endDate   = \"2024-05-01\"\n",
    "\n",
    "# Build URL for GST\n",
    "gst_url = f\"{base_url}{GST}?startDate={startDate}&endDate={endDate}&api_key={NASA_API_KEY}\""
   ]
  },
  {
   "cell_type": "code",
   "execution_count": 41,
   "metadata": {},
   "outputs": [],
   "source": [
    "# Make a \"GET\" request for the GST URL and store it in a variable named gst_response\n",
    "gst_response = requests.get(gst_url)"
   ]
  },
  {
   "cell_type": "code",
   "execution_count": 43,
   "metadata": {},
   "outputs": [],
   "source": [
    "# Convert the response variable to json and store it as a variable named gst_json\n",
    "gst_json = gst_response.json()"
   ]
  },
  {
   "cell_type": "code",
   "execution_count": null,
   "metadata": {},
   "outputs": [
    {
     "data": {
      "text/plain": [
       "'{\\n    \"gstID\": \"2013-06-01T01:00:00-GST-001\",\\n    \"startTime\": \"2013-06-01T01:00Z\",\\n    \"allKpIndex\": [\\n        {\\n            \"observedTime\": \"2013-06-01T01:00Z\",\\n            \"kpIndex\": 6.0,\\n            \"source\": \"NOAA\"\\n        }\\n    ],\\n    \"link\": \"https://webtools.ccmc.gsfc.nasa.gov/DONKI/view/GST/326/-1\",\\n    \"linkedEvents\": [\\n        {\\n            \"activityID\": \"2013-05-31T15:45:00-HSS-001\"\\n        }\\n    ],\\n    \"submissionTime\": \"2013-07-15T19:26Z\",\\n    \"versionId\": 1\\n}'"
      ]
     },
     "execution_count": 47,
     "metadata": {},
     "output_type": "execute_result"
    }
   ],
   "source": [
    "# Preview ONLY the first element from the gst_json list you created in JSON format\n",
    "# Do NOT print out the entire list\n",
    "# Use json.dumps with argument indent=4 to format data\n",
    "json.dumps(gst_json[0], indent=4)"
   ]
  },
  {
   "cell_type": "code",
   "execution_count": 50,
   "metadata": {},
   "outputs": [
    {
     "data": {
      "text/html": [
       "<div>\n",
       "<style scoped>\n",
       "    .dataframe tbody tr th:only-of-type {\n",
       "        vertical-align: middle;\n",
       "    }\n",
       "\n",
       "    .dataframe tbody tr th {\n",
       "        vertical-align: top;\n",
       "    }\n",
       "\n",
       "    .dataframe thead th {\n",
       "        text-align: right;\n",
       "    }\n",
       "</style>\n",
       "<table border=\"1\" class=\"dataframe\">\n",
       "  <thead>\n",
       "    <tr style=\"text-align: right;\">\n",
       "      <th></th>\n",
       "      <th>gstID</th>\n",
       "      <th>startTime</th>\n",
       "      <th>linkedEvents</th>\n",
       "    </tr>\n",
       "  </thead>\n",
       "  <tbody>\n",
       "    <tr>\n",
       "      <th>0</th>\n",
       "      <td>2013-06-01T01:00:00-GST-001</td>\n",
       "      <td>2013-06-01T01:00Z</td>\n",
       "      <td>[{'activityID': '2013-05-31T15:45:00-HSS-001'}]</td>\n",
       "    </tr>\n",
       "    <tr>\n",
       "      <th>1</th>\n",
       "      <td>2013-06-07T03:00:00-GST-001</td>\n",
       "      <td>2013-06-07T03:00Z</td>\n",
       "      <td>[{'activityID': '2013-06-02T20:24:00-CME-001'}]</td>\n",
       "    </tr>\n",
       "    <tr>\n",
       "      <th>2</th>\n",
       "      <td>2013-06-29T03:00:00-GST-001</td>\n",
       "      <td>2013-06-29T03:00Z</td>\n",
       "      <td>None</td>\n",
       "    </tr>\n",
       "    <tr>\n",
       "      <th>3</th>\n",
       "      <td>2013-10-02T03:00:00-GST-001</td>\n",
       "      <td>2013-10-02T03:00Z</td>\n",
       "      <td>[{'activityID': '2013-09-29T22:40:00-CME-001'}...</td>\n",
       "    </tr>\n",
       "    <tr>\n",
       "      <th>4</th>\n",
       "      <td>2013-12-08T00:00:00-GST-001</td>\n",
       "      <td>2013-12-08T00:00Z</td>\n",
       "      <td>[{'activityID': '2013-12-04T23:12:00-CME-001'}...</td>\n",
       "    </tr>\n",
       "  </tbody>\n",
       "</table>\n",
       "</div>"
      ],
      "text/plain": [
       "                         gstID          startTime  \\\n",
       "0  2013-06-01T01:00:00-GST-001  2013-06-01T01:00Z   \n",
       "1  2013-06-07T03:00:00-GST-001  2013-06-07T03:00Z   \n",
       "2  2013-06-29T03:00:00-GST-001  2013-06-29T03:00Z   \n",
       "3  2013-10-02T03:00:00-GST-001  2013-10-02T03:00Z   \n",
       "4  2013-12-08T00:00:00-GST-001  2013-12-08T00:00Z   \n",
       "\n",
       "                                        linkedEvents  \n",
       "0    [{'activityID': '2013-05-31T15:45:00-HSS-001'}]  \n",
       "1    [{'activityID': '2013-06-02T20:24:00-CME-001'}]  \n",
       "2                                               None  \n",
       "3  [{'activityID': '2013-09-29T22:40:00-CME-001'}...  \n",
       "4  [{'activityID': '2013-12-04T23:12:00-CME-001'}...  "
      ]
     },
     "execution_count": 50,
     "metadata": {},
     "output_type": "execute_result"
    }
   ],
   "source": [
    "# Convert gst_json to a Pandas DataFrame  \n",
    "\n",
    "# Keep only the columns: gstID, startTime, linkedEvents\n",
    "gst_df = pd.DataFrame(gst_json)\n",
    "gst_df = gst_df[['gstID', 'startTime', 'linkedEvents']]\n",
    "gst_df.head()"
   ]
  },
  {
   "cell_type": "code",
   "execution_count": 49,
   "metadata": {},
   "outputs": [],
   "source": [
    "# Notice that the linkedEvents column allows us to identify the corresponding CME\n",
    "# Remove rows with missing 'linkedEvents' since we won't be able to assign these to CME\n",
    "gst_df = gst_df[gst_df['linkedEvents'].notna()]"
   ]
  },
  {
   "cell_type": "code",
   "execution_count": 51,
   "metadata": {},
   "outputs": [],
   "source": [
    "# Notice that the linkedEvents sometimes contains multiple events per row\n",
    "# Use the explode method to ensure that each row is one element. Ensure to reset the index and drop missing values.\n",
    "gst_df = gst_df.explode('linkedEvents').reset_index(drop=True)\n",
    "gst_df.dropna(subset=['linkedEvents'], inplace=True)"
   ]
  },
  {
   "cell_type": "code",
   "execution_count": 54,
   "metadata": {},
   "outputs": [
    {
     "data": {
      "text/html": [
       "<div>\n",
       "<style scoped>\n",
       "    .dataframe tbody tr th:only-of-type {\n",
       "        vertical-align: middle;\n",
       "    }\n",
       "\n",
       "    .dataframe tbody tr th {\n",
       "        vertical-align: top;\n",
       "    }\n",
       "\n",
       "    .dataframe thead th {\n",
       "        text-align: right;\n",
       "    }\n",
       "</style>\n",
       "<table border=\"1\" class=\"dataframe\">\n",
       "  <thead>\n",
       "    <tr style=\"text-align: right;\">\n",
       "      <th></th>\n",
       "      <th>gstID</th>\n",
       "      <th>startTime</th>\n",
       "      <th>linkedEvents</th>\n",
       "      <th>CME_ActivityID</th>\n",
       "    </tr>\n",
       "  </thead>\n",
       "  <tbody>\n",
       "    <tr>\n",
       "      <th>0</th>\n",
       "      <td>2013-06-01T01:00:00-GST-001</td>\n",
       "      <td>2013-06-01T01:00Z</td>\n",
       "      <td>{'activityID': '2013-05-31T15:45:00-HSS-001'}</td>\n",
       "      <td>2013-05-31T15:45:00-HSS-001</td>\n",
       "    </tr>\n",
       "    <tr>\n",
       "      <th>1</th>\n",
       "      <td>2013-06-07T03:00:00-GST-001</td>\n",
       "      <td>2013-06-07T03:00Z</td>\n",
       "      <td>{'activityID': '2013-06-02T20:24:00-CME-001'}</td>\n",
       "      <td>2013-06-02T20:24:00-CME-001</td>\n",
       "    </tr>\n",
       "    <tr>\n",
       "      <th>3</th>\n",
       "      <td>2013-10-02T03:00:00-GST-001</td>\n",
       "      <td>2013-10-02T03:00Z</td>\n",
       "      <td>{'activityID': '2013-09-29T22:40:00-CME-001'}</td>\n",
       "      <td>2013-09-29T22:40:00-CME-001</td>\n",
       "    </tr>\n",
       "    <tr>\n",
       "      <th>4</th>\n",
       "      <td>2013-10-02T03:00:00-GST-001</td>\n",
       "      <td>2013-10-02T03:00Z</td>\n",
       "      <td>{'activityID': '2013-10-02T01:54:00-IPS-001'}</td>\n",
       "      <td>2013-10-02T01:54:00-IPS-001</td>\n",
       "    </tr>\n",
       "    <tr>\n",
       "      <th>5</th>\n",
       "      <td>2013-10-02T03:00:00-GST-001</td>\n",
       "      <td>2013-10-02T03:00Z</td>\n",
       "      <td>{'activityID': '2013-10-02T02:47:00-MPC-001'}</td>\n",
       "      <td>2013-10-02T02:47:00-MPC-001</td>\n",
       "    </tr>\n",
       "  </tbody>\n",
       "</table>\n",
       "</div>"
      ],
      "text/plain": [
       "                         gstID          startTime  \\\n",
       "0  2013-06-01T01:00:00-GST-001  2013-06-01T01:00Z   \n",
       "1  2013-06-07T03:00:00-GST-001  2013-06-07T03:00Z   \n",
       "3  2013-10-02T03:00:00-GST-001  2013-10-02T03:00Z   \n",
       "4  2013-10-02T03:00:00-GST-001  2013-10-02T03:00Z   \n",
       "5  2013-10-02T03:00:00-GST-001  2013-10-02T03:00Z   \n",
       "\n",
       "                                    linkedEvents               CME_ActivityID  \n",
       "0  {'activityID': '2013-05-31T15:45:00-HSS-001'}  2013-05-31T15:45:00-HSS-001  \n",
       "1  {'activityID': '2013-06-02T20:24:00-CME-001'}  2013-06-02T20:24:00-CME-001  \n",
       "3  {'activityID': '2013-09-29T22:40:00-CME-001'}  2013-09-29T22:40:00-CME-001  \n",
       "4  {'activityID': '2013-10-02T01:54:00-IPS-001'}  2013-10-02T01:54:00-IPS-001  \n",
       "5  {'activityID': '2013-10-02T02:47:00-MPC-001'}  2013-10-02T02:47:00-MPC-001  "
      ]
     },
     "execution_count": 54,
     "metadata": {},
     "output_type": "execute_result"
    }
   ],
   "source": [
    "# Apply the extract_activityID_from_dict function to each row in the 'linkedEvents' column (you can use apply() and a lambda function)\n",
    "def extract_activityID_from_dict(d):\n",
    "    try:\n",
    "        return d.get('activityID', None)\n",
    "    except Exception as e:\n",
    "        print(f\"Error extracting activityID: {e}\")\n",
    "        return None\n",
    "# and create a new column called 'CME_ActivityID' using loc indexer:\n",
    "gst_df.loc[:, 'CME_ActivityID'] = gst_df['linkedEvents'].apply(lambda d: extract_activityID_from_dict(d))\n",
    "# Remove rows with missing CME_ActivityID, since we can't assign them to CMEs:\n",
    "gst_df = gst_df[gst_df['CME_ActivityID'].notna()]\n",
    "gst_df.head()"
   ]
  },
  {
   "cell_type": "code",
   "execution_count": 55,
   "metadata": {},
   "outputs": [
    {
     "data": {
      "text/html": [
       "<div>\n",
       "<style scoped>\n",
       "    .dataframe tbody tr th:only-of-type {\n",
       "        vertical-align: middle;\n",
       "    }\n",
       "\n",
       "    .dataframe tbody tr th {\n",
       "        vertical-align: top;\n",
       "    }\n",
       "\n",
       "    .dataframe thead th {\n",
       "        text-align: right;\n",
       "    }\n",
       "</style>\n",
       "<table border=\"1\" class=\"dataframe\">\n",
       "  <thead>\n",
       "    <tr style=\"text-align: right;\">\n",
       "      <th></th>\n",
       "      <th>gstID</th>\n",
       "      <th>startTime_GST</th>\n",
       "      <th>CME_ActivityID</th>\n",
       "    </tr>\n",
       "  </thead>\n",
       "  <tbody>\n",
       "    <tr>\n",
       "      <th>0</th>\n",
       "      <td>2013-06-01T01:00:00-GST-001</td>\n",
       "      <td>2013-06-01 01:00:00+00:00</td>\n",
       "      <td>2013-05-31T15:45:00-HSS-001</td>\n",
       "    </tr>\n",
       "    <tr>\n",
       "      <th>1</th>\n",
       "      <td>2013-06-07T03:00:00-GST-001</td>\n",
       "      <td>2013-06-07 03:00:00+00:00</td>\n",
       "      <td>2013-06-02T20:24:00-CME-001</td>\n",
       "    </tr>\n",
       "    <tr>\n",
       "      <th>3</th>\n",
       "      <td>2013-10-02T03:00:00-GST-001</td>\n",
       "      <td>2013-10-02 03:00:00+00:00</td>\n",
       "      <td>2013-09-29T22:40:00-CME-001</td>\n",
       "    </tr>\n",
       "    <tr>\n",
       "      <th>4</th>\n",
       "      <td>2013-10-02T03:00:00-GST-001</td>\n",
       "      <td>2013-10-02 03:00:00+00:00</td>\n",
       "      <td>2013-10-02T01:54:00-IPS-001</td>\n",
       "    </tr>\n",
       "    <tr>\n",
       "      <th>5</th>\n",
       "      <td>2013-10-02T03:00:00-GST-001</td>\n",
       "      <td>2013-10-02 03:00:00+00:00</td>\n",
       "      <td>2013-10-02T02:47:00-MPC-001</td>\n",
       "    </tr>\n",
       "  </tbody>\n",
       "</table>\n",
       "</div>"
      ],
      "text/plain": [
       "                         gstID             startTime_GST  \\\n",
       "0  2013-06-01T01:00:00-GST-001 2013-06-01 01:00:00+00:00   \n",
       "1  2013-06-07T03:00:00-GST-001 2013-06-07 03:00:00+00:00   \n",
       "3  2013-10-02T03:00:00-GST-001 2013-10-02 03:00:00+00:00   \n",
       "4  2013-10-02T03:00:00-GST-001 2013-10-02 03:00:00+00:00   \n",
       "5  2013-10-02T03:00:00-GST-001 2013-10-02 03:00:00+00:00   \n",
       "\n",
       "                CME_ActivityID  \n",
       "0  2013-05-31T15:45:00-HSS-001  \n",
       "1  2013-06-02T20:24:00-CME-001  \n",
       "3  2013-09-29T22:40:00-CME-001  \n",
       "4  2013-10-02T01:54:00-IPS-001  \n",
       "5  2013-10-02T02:47:00-MPC-001  "
      ]
     },
     "execution_count": 55,
     "metadata": {},
     "output_type": "execute_result"
    }
   ],
   "source": [
    "# Convert the 'CME_ActivityID' column to string format \n",
    "gst_df['CME_ActivityID'] = gst_df['CME_ActivityID'].astype(str)\n",
    "\n",
    "# Convert the 'gstID' column to string format \n",
    "gst_df['gstID'] = gst_df['gstID'].astype(str)\n",
    "\n",
    "# Convert startTime to datetime format  \n",
    "gst_df['startTime'] = pd.to_datetime(gst_df['startTime'])\n",
    "# Rename startTime to startTime_GST \n",
    "gst_df.rename(columns={'startTime': 'startTime_GST'}, inplace=True)\n",
    "# Drop linkedEvents\n",
    "gst_df.drop(columns=['linkedEvents'], inplace=True)\n",
    "# Verify that all steps were executed correctly\n",
    "gst_df.head()"
   ]
  },
  {
   "cell_type": "code",
   "execution_count": 56,
   "metadata": {},
   "outputs": [],
   "source": [
    "# We are only interested in GSTs related to CMEs so keep only rows where the CME_ActivityID column contains 'CME'\n",
    "# use the method 'contains()' from the str library.  \n",
    "gst_df = gst_df[gst_df['CME_ActivityID'].str.contains('CME')]"
   ]
  },
  {
   "cell_type": "markdown",
   "metadata": {},
   "source": [
    "### Merge both datatsets"
   ]
  },
  {
   "cell_type": "code",
   "execution_count": 57,
   "metadata": {},
   "outputs": [],
   "source": [
    "# Now merge both datasets using 'gstID' and 'CME_ActivityID' for gst and 'GST_ActivityID' and 'cmeID' for cme. Use the 'left_on' and 'right_on' specifiers.\n",
    "merged_df = pd.merge(\n",
    "    left=gst_df,\n",
    "    right=expanded_cme_df,\n",
    "    left_on=['gstID', 'CME_ActivityID'],\n",
    "    right_on=['GST_ActivityID', 'cmeID']\n",
    ")"
   ]
  },
  {
   "cell_type": "code",
   "execution_count": null,
   "metadata": {},
   "outputs": [
    {
     "name": "stdout",
     "output_type": "stream",
     "text": [
      "Number of rows in CME data: 61\n",
      "Number of rows in GST data: 61\n",
      "Number of rows in merged data: 61\n"
     ]
    }
   ],
   "source": [
    "# Verify that the new DataFrame has the same number of rows as cme and gst\n",
    "print(\"Number of rows in CME data:\", expanded_cme_df.shape[0])\n",
    "print(\"Number of rows in GST data:\", gst_df.shape[0])\n",
    "print(\"Number of rows in merged data:\", merged_df.shape[0])"
   ]
  },
  {
   "cell_type": "markdown",
   "metadata": {},
   "source": [
    "### Computing the time it takes for a CME to cause a GST"
   ]
  },
  {
   "cell_type": "code",
   "execution_count": 60,
   "metadata": {},
   "outputs": [],
   "source": [
    "# Compute the time diff between startTime_GST and startTime_CME by creating a new column called `timeDiff`.\n",
    "merged_df['timeDiff'] = (merged_df['startTime_GST'] - merged_df['startTime_CME']).dt.total_seconds() / 3600.0"
   ]
  },
  {
   "cell_type": "code",
   "execution_count": 61,
   "metadata": {},
   "outputs": [
    {
     "name": "stdout",
     "output_type": "stream",
     "text": [
      "Time difference between CME and GST (in hours):\n",
      "count     61.000000\n",
      "mean      71.490710\n",
      "std       23.885927\n",
      "min       32.600000\n",
      "25%       52.000000\n",
      "50%       67.850000\n",
      "75%       85.583333\n",
      "max      147.000000\n",
      "Name: timeDiff, dtype: float64\n"
     ]
    }
   ],
   "source": [
    "# Use describe() to compute the mean and median time \n",
    "# that it takes for a CME to cause a GST. \n",
    "print(\"Time difference between CME and GST (in hours):\")\n",
    "print(merged_df['timeDiff'].describe())"
   ]
  },
  {
   "cell_type": "markdown",
   "metadata": {},
   "source": [
    "### Exporting data in csv format"
   ]
  },
  {
   "cell_type": "code",
   "execution_count": 62,
   "metadata": {},
   "outputs": [],
   "source": [
    "# Export data to CSV without the index\n",
    "merged_df.to_csv('merged_CME_GST_data.csv', index=False)"
   ]
  }
 ],
 "metadata": {
  "kernelspec": {
   "display_name": "base",
   "language": "python",
   "name": "python3"
  },
  "language_info": {
   "codemirror_mode": {
    "name": "ipython",
    "version": 3
   },
   "file_extension": ".py",
   "mimetype": "text/x-python",
   "name": "python",
   "nbconvert_exporter": "python",
   "pygments_lexer": "ipython3",
   "version": "3.12.7"
  },
  "varInspector": {
   "cols": {
    "lenName": 16,
    "lenType": 16,
    "lenVar": 40
   },
   "kernels_config": {
    "python": {
     "delete_cmd_postfix": "",
     "delete_cmd_prefix": "del ",
     "library": "var_list.py",
     "varRefreshCmd": "print(var_dic_list())"
    },
    "r": {
     "delete_cmd_postfix": ") ",
     "delete_cmd_prefix": "rm(",
     "library": "var_list.r",
     "varRefreshCmd": "cat(var_dic_list()) "
    }
   },
   "types_to_exclude": [
    "module",
    "function",
    "builtin_function_or_method",
    "instance",
    "_Feature"
   ],
   "window_display": false
  }
 },
 "nbformat": 4,
 "nbformat_minor": 4
}
